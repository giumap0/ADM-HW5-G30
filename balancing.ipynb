{
  "nbformat": 4,
  "nbformat_minor": 0,
  "metadata": {
    "colab": {
      "name": "balancing.ipynb",
      "provenance": [],
      "collapsed_sections": [],
      "include_colab_link": true
    },
    "kernelspec": {
      "name": "python3",
      "display_name": "Python 3"
    }
  },
  "cells": [
    {
      "cell_type": "markdown",
      "metadata": {
        "id": "view-in-github",
        "colab_type": "text"
      },
      "source": [
        "<a href=\"https://colab.research.google.com/github/giumap0/ADM-HW5-G30/blob/master/balancing.ipynb\" target=\"_parent\"><img src=\"https://colab.research.google.com/assets/colab-badge.svg\" alt=\"Open In Colab\"/></a>"
      ]
    },
    {
      "cell_type": "code",
      "metadata": {
        "id": "etjWJREZ6Ib1",
        "colab_type": "code",
        "outputId": "3cfc8cfc-e8f0-4738-d8d7-f89d2888a920",
        "colab": {
          "base_uri": "https://localhost:8080/",
          "height": 357
        }
      },
      "source": [
        "import pandas as pd\n",
        "import random\n",
        "import math\n",
        "from datetime import datetime\n",
        "import numpy as np\n",
        "\n",
        "def interarrival(R1, R2, q, t0,Ey):\n",
        "  \"Return inter-arrival time between each task\"\n",
        "  if R1<=q:\n",
        "    T = t0\n",
        "  else:\n",
        "    T = round(t0-(Ey*math.log(R2)))\n",
        "  return T\n",
        "def processingtime (X0,Ex,f):\n",
        "  \"Return the sample processing time X\"\n",
        "  if Ex>1:\n",
        "    X=max(1,min(100*EX,f))\n",
        "  else:\n",
        "    X=X0\n",
        "  return X\n",
        "#problems since now I have rho (list) and I multiply it with an integer(N). maybe panda will solve\n",
        "def beta(rho,N,Et,alpha):\n",
        "  beta= rho*N*Et/(math.factorial(1/alpha))\n",
        "  return beta\n",
        "\n",
        "#number of servers\n",
        "N=20\n",
        "#number of random sampled servers (power of d)\n",
        "d=3\n",
        "#variable describing inter arrival times \n",
        "t0=1\n",
        "q=3/5\n",
        "Ey=10\n",
        "R1=random.uniform(0,1)\n",
        "R2=random.uniform(0,1)\n",
        "X0=random.weibullvariate(alpha,beta(rho,N,Et,alpha)) \n",
        "#for example\n",
        "interTime = interarrival(R1, R2, q, t0,Ey)\n",
        "\n",
        "Et=t0+(1-q)*Ey\n",
        "Y=random.expovariate(-1/10)\n",
        "#processing times of tasks\n",
        "alpha=1/2.\n",
        "rholist=list(range(80,100,1))\n",
        "#EX/[Et*N]\n",
        "rholist = [x/100. for x in rholist]\n",
        " \n",
        "#we then see that, since EX>>1, we use another formula\n",
        "#X_1=max(1,min(100*EX,g))\n",
        "for rho in rholist:\n",
        "  f=round( beta(rho,N,Et,alpha)*(pow((-math.log(R3)),(1/alpha))))\n",
        "  Ex=beta(rho,N,Et,alpha)*4\n",
        "  ptime = processingtime (X0,Ex,f)\n",
        "\n",
        "#mean serving rate for each server\n",
        "#mu=1/EX\n",
        "#utilization coefficient of the system\n",
        "#rho=\n",
        "\n",
        "#GAMMA\n",
        "\n",
        "R3=random.uniform(0,1)\n",
        "#mean system time of tasks (as a function of rho)function of rho for rho appartenente ad intervallo [0.8, 0.99]\n",
        "#Ed=\n",
        "#mean number of message per task arrival\n",
        "#Em\n",
        "#WE HAVE TO PLOT\n",
        "#mean delay\n",
        "#mean number of message par task\n"
      ],
      "execution_count": 0,
      "outputs": [
        {
          "output_type": "error",
          "ename": "TypeError",
          "evalue": "ignored",
          "traceback": [
            "\u001b[0;31m---------------------------------------------------------------------------\u001b[0m",
            "\u001b[0;31mTypeError\u001b[0m                                 Traceback (most recent call last)",
            "\u001b[0;32m<ipython-input-21-ecf0f09d5112>\u001b[0m in \u001b[0;36m<module>\u001b[0;34m()\u001b[0m\n\u001b[1;32m     34\u001b[0m \u001b[0mR1\u001b[0m\u001b[0;34m=\u001b[0m\u001b[0mrandom\u001b[0m\u001b[0;34m.\u001b[0m\u001b[0muniform\u001b[0m\u001b[0;34m(\u001b[0m\u001b[0;36m0\u001b[0m\u001b[0;34m,\u001b[0m\u001b[0;36m1\u001b[0m\u001b[0;34m)\u001b[0m\u001b[0;34m\u001b[0m\u001b[0;34m\u001b[0m\u001b[0m\n\u001b[1;32m     35\u001b[0m \u001b[0mR2\u001b[0m\u001b[0;34m=\u001b[0m\u001b[0mrandom\u001b[0m\u001b[0;34m.\u001b[0m\u001b[0muniform\u001b[0m\u001b[0;34m(\u001b[0m\u001b[0;36m0\u001b[0m\u001b[0;34m,\u001b[0m\u001b[0;36m1\u001b[0m\u001b[0;34m)\u001b[0m\u001b[0;34m\u001b[0m\u001b[0;34m\u001b[0m\u001b[0m\n\u001b[0;32m---> 36\u001b[0;31m \u001b[0mX0\u001b[0m\u001b[0;34m=\u001b[0m\u001b[0mrandom\u001b[0m\u001b[0;34m.\u001b[0m\u001b[0mweibullvariate\u001b[0m\u001b[0;34m(\u001b[0m\u001b[0malpha\u001b[0m\u001b[0;34m,\u001b[0m\u001b[0mbeta\u001b[0m\u001b[0;34m(\u001b[0m\u001b[0mrho\u001b[0m\u001b[0;34m,\u001b[0m\u001b[0mN\u001b[0m\u001b[0;34m,\u001b[0m\u001b[0mEt\u001b[0m\u001b[0;34m,\u001b[0m\u001b[0malpha\u001b[0m\u001b[0;34m)\u001b[0m\u001b[0;34m)\u001b[0m\u001b[0;34m\u001b[0m\u001b[0;34m\u001b[0m\u001b[0m\n\u001b[0m\u001b[1;32m     37\u001b[0m \u001b[0;31m#for example\u001b[0m\u001b[0;34m\u001b[0m\u001b[0;34m\u001b[0m\u001b[0;34m\u001b[0m\u001b[0m\n\u001b[1;32m     38\u001b[0m \u001b[0minterTime\u001b[0m \u001b[0;34m=\u001b[0m \u001b[0minterarrival\u001b[0m\u001b[0;34m(\u001b[0m\u001b[0mR1\u001b[0m\u001b[0;34m,\u001b[0m \u001b[0mR2\u001b[0m\u001b[0;34m,\u001b[0m \u001b[0mq\u001b[0m\u001b[0;34m,\u001b[0m \u001b[0mt0\u001b[0m\u001b[0;34m,\u001b[0m\u001b[0mEy\u001b[0m\u001b[0;34m)\u001b[0m\u001b[0;34m\u001b[0m\u001b[0;34m\u001b[0m\u001b[0m\n",
            "\u001b[0;32m<ipython-input-21-ecf0f09d5112>\u001b[0m in \u001b[0;36mbeta\u001b[0;34m(rho, N, Et, alpha)\u001b[0m\n\u001b[1;32m     21\u001b[0m \u001b[0;31m#problems since now I have rho (list) and I multiply it with an integer(N)\u001b[0m\u001b[0;34m\u001b[0m\u001b[0;34m\u001b[0m\u001b[0;34m\u001b[0m\u001b[0m\n\u001b[1;32m     22\u001b[0m \u001b[0;32mdef\u001b[0m \u001b[0mbeta\u001b[0m\u001b[0;34m(\u001b[0m\u001b[0mrho\u001b[0m\u001b[0;34m,\u001b[0m\u001b[0mN\u001b[0m\u001b[0;34m,\u001b[0m\u001b[0mEt\u001b[0m\u001b[0;34m,\u001b[0m\u001b[0malpha\u001b[0m\u001b[0;34m)\u001b[0m\u001b[0;34m:\u001b[0m\u001b[0;34m\u001b[0m\u001b[0;34m\u001b[0m\u001b[0m\n\u001b[0;32m---> 23\u001b[0;31m   \u001b[0mbeta\u001b[0m\u001b[0;34m=\u001b[0m \u001b[0mrho\u001b[0m\u001b[0;34m*\u001b[0m\u001b[0mN\u001b[0m\u001b[0;34m*\u001b[0m\u001b[0mEt\u001b[0m\u001b[0;34m/\u001b[0m\u001b[0;34m(\u001b[0m\u001b[0mmath\u001b[0m\u001b[0;34m.\u001b[0m\u001b[0mfactorial\u001b[0m\u001b[0;34m(\u001b[0m\u001b[0;36m1\u001b[0m\u001b[0;34m/\u001b[0m\u001b[0malpha\u001b[0m\u001b[0;34m)\u001b[0m\u001b[0;34m)\u001b[0m\u001b[0;34m\u001b[0m\u001b[0;34m\u001b[0m\u001b[0m\n\u001b[0m\u001b[1;32m     24\u001b[0m   \u001b[0;32mreturn\u001b[0m \u001b[0mbeta\u001b[0m\u001b[0;34m\u001b[0m\u001b[0;34m\u001b[0m\u001b[0m\n\u001b[1;32m     25\u001b[0m \u001b[0;34m\u001b[0m\u001b[0m\n",
            "\u001b[0;31mTypeError\u001b[0m: can't multiply sequence by non-int of type 'float'"
          ]
        }
      ]
    }
  ]
}